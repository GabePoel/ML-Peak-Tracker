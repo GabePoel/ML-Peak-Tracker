{
 "cells": [
  {
   "cell_type": "code",
   "execution_count": 1,
   "metadata": {},
   "outputs": [],
   "source": [
    "from __future__ import division, print_function, absolute_import\n",
    "\n",
    "import numpy as np\n",
    "import matplotlib.pyplot as plt\n",
    "\n",
    "import importlib\n",
    "import nptdms\n",
    "import pickle\n",
    "\n",
    "from os import path\n",
    "\n",
    "from peak_finder import utilities as util\n",
    "from peak_finder import generate_lorentz as gl\n",
    "from peak_finder import generate_data as gd\n",
    "from peak_finder import classify_data as cd\n",
    "from peak_finder import efficient_data_generation as ed\n",
    "from peak_finder import data_spy as ds\n",
    "from peak_finder import sliding_window as sw\n",
    "from peak_finder import train_model as tm\n",
    "from peak_finder import fit_lorentz as fl\n",
    "from peak_finder import live_fitting as lf\n",
    "from peak_finder import track_peaks as tp\n",
    "from peak_finder import background_removal as br\n",
    "from peak_finder import automatic\n",
    "from peak_finder import models\n",
    "\n",
    "importlib.reload(util)\n",
    "importlib.reload(gl)\n",
    "importlib.reload(gd)\n",
    "importlib.reload(cd)\n",
    "importlib.reload(ed)\n",
    "importlib.reload(sw)\n",
    "importlib.reload(tm)\n",
    "importlib.reload(fl)\n",
    "importlib.reload(lf)\n",
    "importlib.reload(tp)\n",
    "importlib.reload(br)\n",
    "importlib.reload(automatic)\n",
    "importlib.reload(models)\n",
    "plt.rcParams['figure.figsize'] = 16, 9"
   ]
  },
  {
   "cell_type": "code",
   "execution_count": 2,
   "metadata": {
    "tags": []
   },
   "outputs": [
    {
     "output_type": "stream",
     "name": "stdout",
     "text": "/media/gabriel/Bulk Disk/RUS Data/CeCoIn5/AG2832-II/2_cooldown\n317 files imported\n"
    }
   ],
   "source": [
    "data_files = util.import_tdms_files(show=True)\n",
    "print(str(len(data_files)) + ' files imported')"
   ]
  },
  {
   "cell_type": "code",
   "execution_count": 60,
   "metadata": {
    "tags": []
   },
   "outputs": [
    {
     "output_type": "stream",
     "name": "stdout",
     "text": "[<matplotlib.lines.Line2D object at 0x7f336dc9e340>]\n[<matplotlib.lines.Line2D object at 0x7f336dc970a0>]\n[<matplotlib.lines.Line2D object at 0x7f336dc9e340>]\n[<matplotlib.lines.Line2D object at 0x7f336dc970a0>]\n[<matplotlib.lines.Line2D object at 0x7f336dc9e340>]\n[<matplotlib.lines.Line2D object at 0x7f336dc970a0>]\n[<matplotlib.lines.Line2D object at 0x7f336dc9e340>]\n[<matplotlib.lines.Line2D object at 0x7f336dc970a0>]\n"
    }
   ],
   "source": [
    "selections = lf.color_selection(data_files, parameters=all_peaks)"
   ]
  },
  {
   "cell_type": "code",
   "execution_count": 58,
   "metadata": {
    "tags": []
   },
   "outputs": [
    {
     "output_type": "stream",
     "name": "stdout",
     "text": "Checking for Degeneracies: [============================================================] 1/1"
    }
   ],
   "source": [
    "all_peaks = fl.parameters_from_selections(data_files, selections)"
   ]
  },
  {
   "cell_type": "code",
   "execution_count": 59,
   "metadata": {},
   "outputs": [],
   "source": [
    "for i in range(0, len(all_peaks[0])):\n",
    "    y = all_peaks[...,i,1]\n",
    "    x = np.arange(len(all_peaks))\n",
    "    plt.plot(x, y)\n",
    "    # plt.plot(x, y + 2 * np.pi)"
   ]
  },
  {
   "cell_type": "code",
   "execution_count": 131,
   "metadata": {
    "tags": []
   },
   "outputs": [
    {
     "output_type": "execute_result",
     "data": {
      "text/plain": "'/media/gabriel/Bulk Disk/Saved Examples for Sylvia/FeSe_parameters.pkl'"
     },
     "metadata": {},
     "execution_count": 131
    }
   ],
   "source": [
    "util.save(all_peaks)"
   ]
  },
  {
   "cell_type": "code",
   "execution_count": 25,
   "metadata": {},
   "outputs": [],
   "source": [
    "CeCoIn_parameters = util.load('/media/gabriel/Bulk Disk/Saved Examples for Sylvia/AG2832_parameters.pkl')\n",
    "TMD_parameters = util.load('/media/gabriel/Bulk Disk/Saved Examples for Sylvia/tmd_peaks_demo.pkl')"
   ]
  },
  {
   "cell_type": "code",
   "execution_count": 8,
   "metadata": {
    "tags": []
   },
   "outputs": [
    {
     "output_type": "stream",
     "name": "stdout",
     "text": "Checking for Degeneracies: [============================================================] 1/1"
    }
   ],
   "source": [
    "AG283_parameters = fl.parameters_from_selections(data_files, AG283_selections)"
   ]
  },
  {
   "cell_type": "code",
   "execution_count": 26,
   "metadata": {},
   "outputs": [],
   "source": [
    "for i in range(0, len(CeCoIn_parameters[0])):\n",
    "    y = CeCoIn_parameters[...,i,1]\n",
    "    x = np.arange(len(CeCoIn_parameters))\n",
    "    plt.plot(x, y)"
   ]
  },
  {
   "cell_type": "code",
   "execution_count": 38,
   "metadata": {},
   "outputs": [],
   "source": [
    "for i in range(0, len(TMD_parameters[0])):\n",
    "    y = TMD_parameters[...,i,1]\n",
    "    x = np.arange(len(TMD_parameters))\n",
    "    plt.plot(x, y)"
   ]
  },
  {
   "cell_type": "code",
   "execution_count": 96,
   "metadata": {},
   "outputs": [
    {
     "output_type": "execute_result",
     "data": {
      "text/plain": "[<matplotlib.lines.Line2D at 0x7f4955133760>]"
     },
     "metadata": {},
     "execution_count": 96
    }
   ],
   "source": [
    "index = 80\n",
    "params = all_peaks[index]\n",
    "f = np.linspace(min(data_files[index].f), max(data_files[index].f), 10000)\n",
    "v = gl.multi_lorentz_2d(f, params)\n",
    "plt.plot(f, v)\n",
    "plt.plot(data_files[index].f, data_files[index].r)"
   ]
  },
  {
   "cell_type": "code",
   "execution_count": 88,
   "metadata": {},
   "outputs": [],
   "source": [
    "selections = util.load()"
   ]
  },
  {
   "cell_type": "code",
   "execution_count": 101,
   "metadata": {
    "tags": []
   },
   "outputs": [
    {
     "output_type": "stream",
     "name": "stdout",
     "text": "[{0: array([[5700, 5820]]), 1: array([[5699, 5819]]), 2: array([[5699, 5819]]), 3: array([[5699, 5819]]), 4: array([[5700, 5808]]), 5: array([[5700, 5808]]), 6: array([[5699, 5807]]), 7: array([[5700, 5808]]), 8: array([[5687, 5807]]), 9: array([[5688, 5808]]), 10: array([[5687, 5807]]), 11: array([[5687, 5807]]), 12: array([[5687, 5807]]), 13: array([[5688, 5808]]), 14: array([[5687, 5807]]), 15: array([[5687, 5795]]), 16: array([[5688, 5796]]), 17: array([[5687, 5795]]), 18: array([[5688, 5796]]), 19: array([[5687, 5795]]), 20: array([[5688, 5796]]), 21: array([[5687, 5795]]), 22: array([[5688, 5796]]), 23: array([[5687, 5795]]), 24: array([[5676, 5796]]), 25: array([[5675, 5795]]), 26: array([[5675, 5783]]), 27: array([[5675, 5783]]), 28: array([[5675, 5783]]), 29: array([[5675, 5783]]), 30: array([[5675, 5783]]), 31: array([[5676, 5784]]), 32: array([[5676, 5784]]), 33: array([[5676, 5784]]), 34: array([[5676, 5784]]), 35: array([[5675, 5771]]), 36: array([[5676, 5772]]), 37: array([[5675, 5771]]), 38: array([[5675, 5771]]), 39: array([[5675, 5771]]), 40: array([[5663, 5771]]), 41: array([[5663, 5771]]), 42: array([[5663, 5771]]), 43: array([[5663, 5759]]), 44: array([[5664, 5760]]), 45: array([[5663, 5759]]), 46: array([[5663, 5759]]), 47: array([[5664, 5760]]), 48: array([[5663, 5759]]), 49: array([[5664, 5760]]), 50: array([[5663, 5759]]), 51: array([[5663, 5747]]), 52: array([[5663, 5747]]), 53: array([[5664, 5748]]), 54: array([[5663, 5747]]), 55: array([[5664, 5748]]), 56: array([[5663, 5747]]), 57: array([[5663, 5747]]), 58: array([[5663, 5747]]), 59: array([[5663, 5747]]), 60: array([[5664, 5748]]), 61: array([[5663, 5747]]), 62: array([[5663, 5747]]), 63: array([[5663, 5747]]), 64: array([[5663, 5747]]), 65: array([[5663, 5747]]), 66: array([[5663, 5747]]), 67: array([[5664, 5748]]), 68: array([[5664, 5748]]), 69: array([[5664, 5748]]), 70: array([[5664, 5748]]), 71: array([[5664, 5748]]), 72: array([[5664, 5748]]), 73: array([[5663, 5747]]), 74: array([[5675, 5747]]), 75: array([[5675, 5747]]), 76: array([[5675, 5747]]), 77: array([[5675, 5747]]), 78: array([[5676, 5748]]), 79: array([[5676, 5748]]), 80: array([[5676, 5748]]), 81: array([[5676, 5748]]), 82: array([[5675, 5747]]), 83: array([[5676, 5748]]), 84: array([[5676, 5760]]), 85: array([[5675, 5759]]), 86: array([[5675, 5759]]), 87: array([[5675, 5759]]), 88: array([[5676, 5760]]), 89: array([[5676, 5760]]), 90: array([[5676, 5760]]), 91: array([[5675, 5759]]), 92: array([[5676, 5760]]), 93: array([[5676, 5760]]), 94: array([[5676, 5760]]), 95: array([[5676, 5760]]), 96: array([[5675, 5759]]), 97: array([[5675, 5759]]), 98: array([[5676, 5748]]), 99: array([[5675, 5747]]), 100: array([[5675, 5747]]), 101: array([[5675, 5747]]), 102: array([[5675, 5747]])}, {0: array([[5376, 5460]]), 1: array([[5375, 5459]]), 2: array([[5375, 5459]]), 3: array([[5375, 5459]]), 4: array([[5376, 5460]]), 5: array([[5376, 5460]]), 6: array([[5375, 5459]]), 7: array([[5376, 5460]]), 8: array([[5375, 5459]]), 9: array([[5376, 5460]]), 10: array([[5375, 5459]]), 11: array([[5363, 5459]]), 12: array([[5363, 5459]]), 13: array([[5364, 5460]]), 14: array([[5363, 5459]]), 15: array([[5363, 5459]]), 16: array([[5364, 5460]]), 17: array([[5363, 5459]]), 18: array([[5364, 5460]]), 19: array([[5363, 5459]]), 20: array([[5364, 5460]]), 21: array([[5363, 5459]]), 22: array([[5364, 5460]]), 23: array([[5363, 5459]]), 24: array([[5364, 5460]]), 25: array([[5363, 5459]]), 26: array([[5363, 5459]]), 27: array([[5363, 5459]]), 28: array([[5363, 5459]]), 29: array([[5363, 5459]]), 30: array([[5363, 5459]]), 31: array([[5364, 5460]]), 32: array([[5364, 5460]]), 33: array([[5364, 5460]]), 34: array([[5364, 5460]]), 35: array([[5363, 5459]]), 36: array([[5364, 5460]]), 37: array([[5363, 5459]]), 38: array([[5363, 5459]]), 39: array([[5363, 5459]]), 40: array([[5363, 5459]]), 41: array([[5363, 5459]]), 42: array([[5363, 5447]]), 43: array([[5363, 5447]]), 44: array([[5364, 5448]]), 45: array([[5363, 5447]]), 46: array([[5363, 5447]]), 47: array([[5364, 5448]]), 48: array([[5363, 5447]]), 49: array([[5364, 5448]]), 50: array([[5363, 5447]]), 51: array([[5363, 5447]]), 52: array([[5363, 5447]]), 53: array([[5364, 5448]]), 54: array([[5363, 5447]]), 55: array([[5364, 5448]]), 56: array([[5363, 5447]]), 57: array([[5363, 5447]]), 58: array([[5363, 5447]]), 59: array([[5363, 5447]]), 60: array([[5364, 5448]]), 61: array([[5363, 5447]]), 62: array([[5363, 5447]]), 63: array([[5363, 5447]]), 64: array([[5363, 5435]]), 65: array([[5363, 5435]]), 66: array([[5375, 5435]]), 67: array([[5376, 5436]]), 68: array([[5376, 5436]]), 69: array([[5376, 5436]]), 70: array([[5376, 5436]]), 71: array([[5376, 5436]]), 72: array([[5376, 5436]]), 73: array([[5375, 5435]]), 74: array([[5375, 5435]]), 75: array([[5375, 5435]]), 76: array([[5375, 5435]]), 77: array([[5375, 5435]]), 78: array([[5376, 5436]]), 79: array([[5376, 5436]]), 80: array([[5376, 5436]]), 81: array([[5376, 5436]]), 82: array([[5375, 5435]]), 83: array([[5376, 5436]]), 84: array([[5376, 5436]]), 85: array([[5375, 5423]]), 86: array([[5375, 5423]]), 87: array([[5375, 5423]]), 88: array([[5376, 5424]]), 89: array([[5376, 5424]]), 90: array([[5376, 5424]]), 91: array([[5375, 5423]]), 92: array([[5376, 5424]]), 93: array([[5376, 5424]]), 94: array([[5376, 5424]]), 95: array([[5376, 5424]]), 96: array([[5375, 5423]]), 97: array([[5375, 5423]]), 98: array([[5376, 5424]]), 99: array([[5375, 5423]]), 100: array([[5375, 5423]]), 101: array([[5375, 5423]]), 102: array([[5375, 5423]])}, {0: array([[5016, 5148]]), 1: array([[5015, 5147]]), 2: array([[5015, 5147]]), 3: array([[5015, 5147]]), 4: array([[5016, 5136]]), 5: array([[5016, 5136]]), 6: array([[5015, 5135]]), 7: array([[5016, 5136]]), 8: array([[5015, 5135]]), 9: array([[5016, 5136]]), 10: array([[5015, 5135]]), 11: array([[5015, 5135]]), 12: array([[5015, 5135]]), 13: array([[5016, 5136]]), 14: array([[5015, 5135]]), 15: array([[5015, 5135]]), 16: array([[5028, 5124]]), 17: array([[5027, 5123]]), 18: array([[5028, 5124]]), 19: array([[5027, 5123]]), 20: array([[5028, 5124]]), 21: array([[5027, 5123]]), 22: array([[5028, 5124]]), 23: array([[5027, 5123]]), 24: array([[5028, 5124]]), 25: array([[5027, 5123]]), 26: array([[5027, 5123]]), 27: array([[5027, 5123]]), 28: array([[5027, 5123]]), 29: array([[5027, 5111]]), 30: array([[5027, 5111]]), 31: array([[5028, 5112]]), 32: array([[5028, 5112]]), 33: array([[5028, 5112]]), 34: array([[5028, 5112]]), 35: array([[5027, 5111]]), 36: array([[5028, 5112]]), 37: array([[5027, 5111]]), 38: array([[5039, 5111]]), 39: array([[5039, 5111]]), 40: array([[5039, 5111]]), 41: array([[5039, 5111]]), 42: array([[5039, 5111]]), 43: array([[5039, 5111]]), 44: array([[5040, 5112]]), 45: array([[5039, 5111]]), 46: array([[5039, 5111]]), 47: array([[5040, 5112]]), 48: array([[5039, 5111]]), 49: array([[5040, 5112]]), 50: array([[5039, 5111]]), 51: array([[5039, 5111]]), 52: array([[5039, 5111]]), 53: array([[5040, 5112]]), 54: array([[5039, 5111]]), 55: array([[5040, 5112]]), 56: array([[5039, 5111]]), 57: array([[5039, 5111]]), 58: array([[5039, 5111]]), 59: array([[5039, 5111]]), 60: array([[5040, 5112]]), 61: array([[5051, 5111]]), 62: array([[5051, 5111]]), 63: array([[5051, 5111]]), 64: array([[5051, 5111]]), 65: array([[5051, 5111]]), 66: array([[5051, 5111]]), 67: array([[5052, 5112]]), 68: array([[5052, 5112]]), 69: array([[5052, 5112]]), 70: array([[5052, 5112]]), 71: array([[5052, 5112]]), 72: array([[5052, 5112]]), 73: array([[5051, 5111]]), 74: array([[5051, 5111]]), 75: array([[5051, 5111]]), 76: array([[5051, 5111]]), 77: array([[5051, 5111]]), 78: array([[5052, 5112]]), 79: array([[5052, 5112]]), 80: array([[5052, 5112]]), 81: array([[5052, 5112]]), 82: array([[5051, 5111]]), 83: array([[5052, 5112]]), 84: array([[5052, 5112]]), 85: array([[5063, 5111]]), 86: array([[5063, 5111]]), 87: array([[5063, 5111]]), 88: array([[5064, 5112]]), 89: array([[5064, 5112]]), 90: array([[5064, 5112]]), 91: array([[5063, 5111]]), 92: array([[5064, 5112]]), 93: array([[5064, 5112]]), 94: array([[5064, 5112]]), 95: array([[5064, 5112]]), 96: array([[5063, 5099]]), 97: array([[5063, 5099]]), 98: array([[5064, 5100]]), 99: array([[5063, 5099]]), 100: array([[5063, 5099]]), 101: array([[5063, 5099]]), 102: array([[5063, 5099]])}, {0: array([[4800, 4884]]), 1: array([[4799, 4883]]), 2: array([[4787, 4883]]), 3: array([[4787, 4883]]), 4: array([[4788, 4884]]), 5: array([[4788, 4884]]), 6: array([[4787, 4883]]), 7: array([[4788, 4884]]), 8: array([[4787, 4883]]), 9: array([[4788, 4872]]), 10: array([[4787, 4871]]), 11: array([[4787, 4871]]), 12: array([[4787, 4871]]), 13: array([[4776, 4872]]), 14: array([[4775, 4871]]), 15: array([[4775, 4871]]), 16: array([[4776, 4872]]), 17: array([[4775, 4871]]), 18: array([[4776, 4872]]), 19: array([[4775, 4859]]), 20: array([[4776, 4860]]), 21: array([[4775, 4859]]), 22: array([[4776, 4860]]), 23: array([[4775, 4859]]), 24: array([[4776, 4860]]), 25: array([[4775, 4859]]), 26: array([[4775, 4859]]), 27: array([[4775, 4859]]), 28: array([[4775, 4859]]), 29: array([[4775, 4859]]), 30: array([[4775, 4859]]), 31: array([[4776, 4860]]), 32: array([[4776, 4860]]), 33: array([[4776, 4860]]), 34: array([[4776, 4860]]), 35: array([[4775, 4859]]), 36: array([[4776, 4860]]), 37: array([[4775, 4859]]), 38: array([[4775, 4859]]), 39: array([[4775, 4859]]), 40: array([[4775, 4859]]), 41: array([[4775, 4859]]), 42: array([[4787, 4859]]), 43: array([[4787, 4859]]), 44: array([[4788, 4860]]), 45: array([[4787, 4859]]), 46: array([[4787, 4859]]), 47: array([[4788, 4860]]), 48: array([[4787, 4859]]), 49: array([[4788, 4860]]), 50: array([[4787, 4859]]), 51: array([[4787, 4859]]), 52: array([[4787, 4859]]), 53: array([[4788, 4860]]), 54: array([[4787, 4859]]), 55: array([[4788, 4860]]), 56: array([[4787, 4859]]), 57: array([[4787, 4859]]), 58: array([[4787, 4859]]), 59: array([[4787, 4859]]), 60: array([[4788, 4860]]), 61: array([[4787, 4859]]), 62: array([[4787, 4859]]), 63: array([[4787, 4859]]), 64: array([[4787, 4859]]), 65: array([[4787, 4859]]), 66: array([[4787, 4859]]), 67: array([[4788, 4860]]), 68: array([[4800, 4860]]), 69: array([[4800, 4860]]), 70: array([[4800, 4860]]), 71: array([[4800, 4860]]), 72: array([[4800, 4860]]), 73: array([[4799, 4859]]), 74: array([[4799, 4859]]), 75: array([[4799, 4859]]), 76: array([[4799, 4859]]), 77: array([[4799, 4859]]), 78: array([[4800, 4860]]), 79: array([[4800, 4860]]), 80: array([[4800, 4860]]), 81: array([[4800, 4860]]), 82: array([[4799, 4859]]), 83: array([[4800, 4860]]), 84: array([[4800, 4860]]), 85: array([[4799, 4859]]), 86: array([[4799, 4859]]), 87: array([[4799, 4859]]), 88: array([[4800, 4860]]), 89: array([[4800, 4860]]), 90: array([[4800, 4848]]), 91: array([[4799, 4847]]), 92: array([[4800, 4848]]), 93: array([[4800, 4848]]), 94: array([[4812, 4848]]), 95: array([[4812, 4848]]), 96: array([[4811, 4847]]), 97: array([[4811, 4847]]), 98: array([[4812, 4848]]), 99: array([[4811, 4847]]), 100: array([[4811, 4847]]), 101: array([[4811, 4847]]), 102: array([[4811, 4847]])}, {}]\n"
    }
   ],
   "source": [
    "print(selections)"
   ]
  },
  {
   "cell_type": "code",
   "execution_count": 14,
   "metadata": {
    "tags": []
   },
   "outputs": [
    {
     "output_type": "stream",
     "name": "stdout",
     "text": "Generating Data: [========================================] 10/10"
    }
   ],
   "source": [
    "test_split = ed.make_split_data_set(10)"
   ]
  },
  {
   "cell_type": "code",
   "execution_count": 5,
   "metadata": {},
   "outputs": [],
   "source": [
    "def plot_print(index):\n",
    "    plt.plot(np.linspace(0,1,1024), test_split[1][index] + test_split[1][index + 1])\n",
    "    print(test_split[0][index] + 1)"
   ]
  },
  {
   "cell_type": "code",
   "execution_count": 18,
   "metadata": {
    "tags": []
   },
   "outputs": [
    {
     "output_type": "stream",
     "name": "stdout",
     "text": "[2.]\n"
    }
   ],
   "source": [
    "plot_print(2)"
   ]
  },
  {
   "cell_type": "code",
   "execution_count": null,
   "metadata": {},
   "outputs": [],
   "source": []
  }
 ],
 "metadata": {
  "language_info": {
   "codemirror_mode": {
    "name": "ipython",
    "version": 3
   },
   "file_extension": ".py",
   "mimetype": "text/x-python",
   "name": "python",
   "nbconvert_exporter": "python",
   "pygments_lexer": "ipython3",
   "version": "3.8.2-final"
  },
  "orig_nbformat": 2,
  "kernelspec": {
   "name": "python3",
   "display_name": "Python 3"
  }
 },
 "nbformat": 4,
 "nbformat_minor": 2
}
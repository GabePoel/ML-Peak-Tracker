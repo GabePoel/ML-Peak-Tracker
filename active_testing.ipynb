{
 "cells": [
  {
   "cell_type": "code",
   "execution_count": 76,
   "metadata": {},
   "outputs": [
    {
     "output_type": "execute_result",
     "data": {
      "text/plain": "<module 'peak_finder.models' from '/home/gabriel/Documents/ML-Peak-Tracker/peak_finder/models.py'>"
     },
     "metadata": {},
     "execution_count": 76
    }
   ],
   "source": [
    "from __future__ import division, print_function, absolute_import\n",
    "\n",
    "import numpy as np\n",
    "import matplotlib.pyplot as plt\n",
    "\n",
    "import importlib\n",
    "import nptdms\n",
    "import pickle\n",
    "\n",
    "from os import path\n",
    "\n",
    "from peak_finder import utilities as util\n",
    "from peak_finder import generate_lorentz as gl\n",
    "from peak_finder import generate_data as gd\n",
    "from peak_finder import classify_data as cd\n",
    "from peak_finder import efficient_data_generation as ed\n",
    "from peak_finder import data_spy as ds\n",
    "from peak_finder import sliding_window as sw\n",
    "from peak_finder import train_model as tm\n",
    "from peak_finder import fit_lorentz as fl\n",
    "from peak_finder import live_fitting as lf\n",
    "from peak_finder import track_peaks as tp\n",
    "from peak_finder import background_removal as br\n",
    "from peak_finder import automatic\n",
    "from peak_finder import models\n",
    "\n",
    "importlib.reload(util)\n",
    "importlib.reload(gl)\n",
    "importlib.reload(gd)\n",
    "importlib.reload(cd)\n",
    "importlib.reload(ed)\n",
    "importlib.reload(ds)\n",
    "importlib.reload(sw)\n",
    "importlib.reload(tm)\n",
    "importlib.reload(fl)\n",
    "importlib.reload(lf)\n",
    "importlib.reload(tp)\n",
    "importlib.reload(br)\n",
    "importlib.reload(automatic)\n",
    "importlib.reload(models)"
   ]
  },
  {
   "cell_type": "code",
   "execution_count": 14,
   "metadata": {
    "tags": []
   },
   "outputs": [
    {
     "output_type": "stream",
     "name": "stdout",
     "text": "/home/gabriel/Documents/RUS Data/CeCoIn5/AG3023 - I/1_roomtemp\n"
    }
   ],
   "source": [
    "data_files = util.import_tdms_files(show=True)\n",
    "p = util.load()\n",
    "util.set_all_params(data_files, p)"
   ]
  },
  {
   "cell_type": "code",
   "execution_count": 17,
   "metadata": {},
   "outputs": [],
   "source": [
    "ds.scatter_data_files(data_files)"
   ]
  },
  {
   "cell_type": "code",
   "execution_count": 104,
   "metadata": {
    "tags": []
   },
   "outputs": [
    {
     "output_type": "stream",
     "name": "stdout",
     "text": "[1241.56145978 1335.85861757 1438.71825205 1473.20706594 1496.75710644\n 1730.91158706 2216.44587933 2256.60198344 2333.79685    2516.29576508\n 2537.92631432 2668.94673035 2714.26915415 2901.92371384 2930.43828303\n 2971.96178265 3090.35302134 3219.39056477 3264.22911158 3439.91432393\n 3512.0916212  3636.52453807 3770.86544245 4056.66985479 4158.57433297\n 4186.75739181 4190.29148882 4234.92119531 4353.71667664 4396.64154304\n 4728.29766755 4901.29806658 5166.1149642  5209.91997477 5239.90461875\n 5549.32498796 5641.76031983 5697.84541649 5792.75537442 5963.85376324\n 6313.98975905 6362.35463358 6379.85978066 6422.88993237 6559.73436924\n 6695.56763298 6785.99158429 6820.94381208 7035.16768679 7096.55087924\n 7237.23002057 7337.14589889 7465.01951725 7516.25620278 7566.21245511\n 7677.88285592 7710.98576835 7754.52593167 7889.13627247 7996.12268436\n 8090.8380674  8450.91184362 8656.31697996 8815.33386361 8920.99977661\n 8951.45493095 9328.87446519 9405.0769053  9470.54495635 9543.31275728\n 9568.00300478 9633.51382132 9669.31505799]\n"
    }
   ],
   "source": [
    "t = lf.point_selection(data_files)\n",
    "print(f)"
   ]
  },
  {
   "cell_type": "code",
   "execution_count": 82,
   "metadata": {},
   "outputs": [
    {
     "output_type": "execute_result",
     "data": {
      "text/plain": "<matplotlib.collections.PathCollection at 0x7fd2384d47c0>"
     },
     "metadata": {},
     "execution_count": 82
    }
   ],
   "source": [
    "plt.scatter(f, np.ones(len(f)))\n",
    "plt.scatter(f[2:], np.ones(len(f[2:])))"
   ]
  },
  {
   "cell_type": "code",
   "execution_count": 89,
   "metadata": {},
   "outputs": [],
   "source": [
    "f = np.sort(f) / 1000"
   ]
  },
  {
   "cell_type": "code",
   "execution_count": 84,
   "metadata": {},
   "outputs": [
    {
     "output_type": "execute_result",
     "data": {
      "text/plain": "'/home/gabriel/Documents/Processed RUS Data/AG3023 - I/1_roomtemp/f0.pkl'"
     },
     "metadata": {},
     "execution_count": 84
    }
   ],
   "source": [
    "util.save(f)"
   ]
  },
  {
   "cell_type": "code",
   "execution_count": 103,
   "metadata": {},
   "outputs": [],
   "source": [
    "np.savetxt('/home/gabriel/Documents/Processed RUS Data/AG3023 - I/1_roomtemp/f0.txt', f, delimiter='\\n', fmt='%10.15f')"
   ]
  },
  {
   "cell_type": "code",
   "execution_count": 102,
   "metadata": {},
   "outputs": [
    {
     "output_type": "execute_result",
     "data": {
      "text/plain": "197524.38109527383"
     },
     "metadata": {},
     "execution_count": 102
    }
   ],
   "source": [
    "data_files[0].f[100]"
   ]
  },
  {
   "cell_type": "code",
   "execution_count": null,
   "metadata": {},
   "outputs": [],
   "source": []
  }
 ],
 "metadata": {
  "language_info": {
   "codemirror_mode": {
    "name": "ipython",
    "version": 3
   },
   "file_extension": ".py",
   "mimetype": "text/x-python",
   "name": "python",
   "nbconvert_exporter": "python",
   "pygments_lexer": "ipython3",
   "version": "3.8.2-final"
  },
  "orig_nbformat": 2,
  "kernelspec": {
   "name": "python_defaultSpec_1594748575642",
   "display_name": "Python 3.8.2 64-bit"
  }
 },
 "nbformat": 4,
 "nbformat_minor": 2
}
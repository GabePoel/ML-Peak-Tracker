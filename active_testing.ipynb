{
 "cells": [
  {
   "cell_type": "code",
   "execution_count": 32,
   "metadata": {},
   "outputs": [],
   "source": [
    "from __future__ import division, print_function, absolute_import\n",
    "\n",
    "import numpy as np\n",
    "import matplotlib.pyplot as plt\n",
    "\n",
    "import importlib\n",
    "import nptdms\n",
    "import pickle\n",
    "\n",
    "from os import path\n",
    "\n",
    "from peak_finder import utilities as util\n",
    "from peak_finder import generate_lorentz as gl\n",
    "from peak_finder import generate_data as gd\n",
    "from peak_finder import classify_data as cd\n",
    "from peak_finder import efficient_data_generation as ed\n",
    "from peak_finder import data_spy as ds\n",
    "from peak_finder import sliding_window as sw\n",
    "from peak_finder import train_model as tm\n",
    "from peak_finder import fit_lorentz as fl\n",
    "from peak_finder import live_fitting as lf\n",
    "from peak_finder import track_peaks as tp\n",
    "from peak_finder import background_removal as br\n",
    "from peak_finder import automatic\n",
    "from peak_finder import models\n",
    "\n",
    "importlib.reload(util)\n",
    "importlib.reload(gl)\n",
    "importlib.reload(gd)\n",
    "importlib.reload(cd)\n",
    "importlib.reload(ed)\n",
    "importlib.reload(sw)\n",
    "importlib.reload(tm)\n",
    "importlib.reload(fl)\n",
    "importlib.reload(lf)\n",
    "importlib.reload(tp)\n",
    "importlib.reload(br)\n",
    "importlib.reload(automatic)\n",
    "importlib.reload(models)\n",
    "plt.rcParams['figure.figsize'] = 16, 9"
   ]
  },
  {
   "cell_type": "code",
   "execution_count": 33,
   "metadata": {
    "tags": []
   },
   "outputs": [
    {
     "output_type": "stream",
     "name": "stdout",
     "text": "Imported file from /home/gabriel/Documents/Boxeley/RUS data/Sylvia/M2.5 nut (testing)/9_cooldown_probev2/20190213_182359_1.875K_1.875K.tdms\n"
    }
   ],
   "source": [
    "# data_files = util.import_tdms_files(show=True)\n",
    "# print(str(len(data_files)) + ' files imported')\n",
    "data_file = util.import_tdms_file(show=True)"
   ]
  },
  {
   "cell_type": "code",
   "execution_count": 43,
   "metadata": {},
   "outputs": [
    {
     "output_type": "execute_result",
     "data": {
      "text/plain": "9999"
     },
     "metadata": {},
     "execution_count": 43
    }
   ],
   "source": [
    "len(data_file.f)"
   ]
  },
  {
   "cell_type": "code",
   "execution_count": 7,
   "metadata": {
    "tags": []
   },
   "outputs": [
    {
     "output_type": "stream",
     "name": "stderr",
     "text": "Traceback (most recent call last):\n  File \"/home/gabriel/.local/lib/python3.8/site-packages/matplotlib/cbook/__init__.py\", line 196, in process\n    func(*args, **kwargs)\n  File \"/home/gabriel/Documents/ML-Peak-Tracker/peak_finder/live_fitting.py\", line 307, in on_press_add\n    min_ind = util.find_nearest_index(self.f, self.selection.f_min)\nAttributeError: 'NoneType' object has no attribute 'f_min'\n"
    }
   ],
   "source": [
    "# selections = lf.color_selection(data_files)\n",
    "params = lf.live_selection(data_file)"
   ]
  },
  {
   "cell_type": "code",
   "execution_count": 30,
   "metadata": {},
   "outputs": [
    {
     "output_type": "execute_result",
     "data": {
      "text/plain": "[<matplotlib.lines.Line2D at 0x7eff14c8c520>]"
     },
     "metadata": {},
     "execution_count": 30
    }
   ],
   "source": [
    "plt.plot(data_files[1].f, gl.multi_lorentz_2d(data_files[1].f, params))"
   ]
  },
  {
   "cell_type": "code",
   "execution_count": 47,
   "metadata": {},
   "outputs": [
    {
     "output_type": "execute_result",
     "data": {
      "text/plain": "'/home/gabriel/Documents/Processed RUS Data/AG3023 - I/1_roomtemp/20200707_201306_298.540K_298.141K'"
     },
     "metadata": {},
     "execution_count": 47
    }
   ],
   "source": [
    "util.save(params, name=data_files[4].name)"
   ]
  },
  {
   "cell_type": "code",
   "execution_count": null,
   "metadata": {},
   "outputs": [],
   "source": []
  }
 ],
 "metadata": {
  "language_info": {
   "codemirror_mode": {
    "name": "ipython",
    "version": 3
   },
   "file_extension": ".py",
   "mimetype": "text/x-python",
   "name": "python",
   "nbconvert_exporter": "python",
   "pygments_lexer": "ipython3",
   "version": "3.8.2-final"
  },
  "orig_nbformat": 2,
  "kernelspec": {
   "name": "python_defaultSpec_1594420121013",
   "display_name": "Python 3.8.2 64-bit"
  }
 },
 "nbformat": 4,
 "nbformat_minor": 2
}
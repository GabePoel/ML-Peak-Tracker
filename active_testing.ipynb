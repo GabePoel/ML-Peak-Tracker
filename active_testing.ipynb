{
 "cells": [
  {
   "cell_type": "code",
   "execution_count": 40,
   "metadata": {},
   "outputs": [
    {
     "output_type": "execute_result",
     "data": {
      "text/plain": "<module 'peak_finder.models' from '/home/gabriel/Documents/ML-Peak-Tracker/peak_finder/models.py'>"
     },
     "metadata": {},
     "execution_count": 40
    }
   ],
   "source": [
    "from __future__ import division, print_function, absolute_import\n",
    "\n",
    "import numpy as np\n",
    "import matplotlib.pyplot as plt\n",
    "\n",
    "import importlib\n",
    "import nptdms\n",
    "import pickle\n",
    "\n",
    "from os import path\n",
    "\n",
    "from peak_finder import utilities as util\n",
    "from peak_finder import generate_lorentz as gl\n",
    "from peak_finder import generate_data as gd\n",
    "from peak_finder import classify_data as cd\n",
    "from peak_finder import efficient_data_generation as ed\n",
    "from peak_finder import data_spy as ds\n",
    "from peak_finder import sliding_window as sw\n",
    "from peak_finder import train_model as tm\n",
    "from peak_finder import fit_lorentz as fl\n",
    "from peak_finder import live_fitting as lf\n",
    "from peak_finder import track_peaks as tp\n",
    "from peak_finder import background_removal as br\n",
    "from peak_finder import automatic\n",
    "from peak_finder import models\n",
    "\n",
    "importlib.reload(util)\n",
    "importlib.reload(gl)\n",
    "importlib.reload(gd)\n",
    "importlib.reload(cd)\n",
    "importlib.reload(ed)\n",
    "importlib.reload(ds)\n",
    "importlib.reload(sw)\n",
    "importlib.reload(tm)\n",
    "importlib.reload(fl)\n",
    "importlib.reload(lf)\n",
    "importlib.reload(tp)\n",
    "importlib.reload(br)\n",
    "importlib.reload(automatic)\n",
    "importlib.reload(models)"
   ]
  },
  {
   "cell_type": "code",
   "execution_count": 4,
   "metadata": {
    "tags": []
   },
   "outputs": [
    {
     "output_type": "stream",
     "name": "stdout",
     "text": "/home/gabriel/Documents/RUS Data/CeCoIn5/AG3023 - I/1_roomtemp\n"
    }
   ],
   "source": [
    "data_files = util.import_tdms_files(show=True)\n",
    "p = util.load()\n",
    "# util.set_all_params(data_files, p)"
   ]
  },
  {
   "cell_type": "code",
   "execution_count": 29,
   "metadata": {},
   "outputs": [],
   "source": [
    "ds.spider_plot(ndf, p[0][3:4], bg=True, color_2='r')"
   ]
  },
  {
   "cell_type": "code",
   "execution_count": 99,
   "metadata": {},
   "outputs": [],
   "source": [
    "x, y = fl.data_from_parameters(ndf, p[4], 21)"
   ]
  },
  {
   "cell_type": "code",
   "execution_count": 100,
   "metadata": {},
   "outputs": [],
   "source": [
    "import lsq\n",
    "importlib.reload(lsq)\n",
    "xc, yc, R, resid = lsq.leastsq_circle(x, y)\n",
    "lsq.plot_data_circle(x, y, xc, yc, R)"
   ]
  },
  {
   "cell_type": "code",
   "execution_count": 86,
   "metadata": {
    "tags": []
   },
   "outputs": [
    {
     "output_type": "stream",
     "name": "stdout",
     "text": "Fitting: [=========---------------------------------------------------] 23/148Fitting: [=========---------------------------------------------------] 24/148"
    },
    {
     "output_type": "error",
     "ename": "ValueError",
     "evalue": "max() arg is an empty sequence",
     "traceback": [
      "\u001b[0;31m---------------------------------------------------------------------------\u001b[0m",
      "\u001b[0;31mValueError\u001b[0m                                Traceback (most recent call last)",
      "\u001b[0;32m<ipython-input-86-78085330d9de>\u001b[0m in \u001b[0;36m<module>\u001b[0;34m\u001b[0m\n\u001b[0;32m----> 1\u001b[0;31m \u001b[0mx_params\u001b[0m\u001b[0;34m,\u001b[0m \u001b[0my_params\u001b[0m \u001b[0;34m=\u001b[0m \u001b[0mfl\u001b[0m\u001b[0;34m.\u001b[0m\u001b[0mspider_fit\u001b[0m\u001b[0;34m(\u001b[0m\u001b[0mdata_files\u001b[0m\u001b[0;34m[\u001b[0m\u001b[0;36m0\u001b[0m\u001b[0;34m]\u001b[0m\u001b[0;34m,\u001b[0m \u001b[0mp\u001b[0m\u001b[0;34m[\u001b[0m\u001b[0;36m1\u001b[0m\u001b[0;34m]\u001b[0m\u001b[0;34m)\u001b[0m\u001b[0;34m\u001b[0m\u001b[0;34m\u001b[0m\u001b[0m\n\u001b[0m",
      "\u001b[0;32m~/Documents/ML-Peak-Tracker/peak_finder/fit_lorentz.py\u001b[0m in \u001b[0;36mspider_fit\u001b[0;34m(data_file, params)\u001b[0m\n\u001b[1;32m    368\u001b[0m         \u001b[0mparams\u001b[0m \u001b[0;34m=\u001b[0m \u001b[0mdata_file\u001b[0m\u001b[0;34m.\u001b[0m\u001b[0mparams\u001b[0m\u001b[0;34m\u001b[0m\u001b[0;34m\u001b[0m\u001b[0m\n\u001b[1;32m    369\u001b[0m     \u001b[0mregions\u001b[0m \u001b[0;34m=\u001b[0m \u001b[0mregions_from_parameters\u001b[0m\u001b[0;34m(\u001b[0m\u001b[0mdata_file\u001b[0m\u001b[0;34m.\u001b[0m\u001b[0mf\u001b[0m\u001b[0;34m,\u001b[0m \u001b[0mparams\u001b[0m\u001b[0;34m)\u001b[0m\u001b[0;34m\u001b[0m\u001b[0;34m\u001b[0m\u001b[0m\n\u001b[0;32m--> 370\u001b[0;31m     \u001b[0mx_params\u001b[0m \u001b[0;34m=\u001b[0m \u001b[0mparameters_from_regions\u001b[0m\u001b[0;34m(\u001b[0m\u001b[0mdata_file\u001b[0m\u001b[0;34m.\u001b[0m\u001b[0mf\u001b[0m\u001b[0;34m,\u001b[0m \u001b[0mdata_file\u001b[0m\u001b[0;34m.\u001b[0m\u001b[0mx\u001b[0m\u001b[0;34m,\u001b[0m \u001b[0mregions\u001b[0m\u001b[0;34m)\u001b[0m\u001b[0;34m\u001b[0m\u001b[0;34m\u001b[0m\u001b[0m\n\u001b[0m\u001b[1;32m    371\u001b[0m     \u001b[0my_params\u001b[0m \u001b[0;34m=\u001b[0m \u001b[0mparameters_from_regions\u001b[0m\u001b[0;34m(\u001b[0m\u001b[0mdata_file\u001b[0m\u001b[0;34m.\u001b[0m\u001b[0mf\u001b[0m\u001b[0;34m,\u001b[0m \u001b[0mdata_file\u001b[0m\u001b[0;34m.\u001b[0m\u001b[0my\u001b[0m\u001b[0;34m,\u001b[0m \u001b[0mregions\u001b[0m\u001b[0;34m)\u001b[0m\u001b[0;34m\u001b[0m\u001b[0;34m\u001b[0m\u001b[0m\n\u001b[1;32m    372\u001b[0m     \u001b[0;32mreturn\u001b[0m \u001b[0mx_params\u001b[0m\u001b[0;34m,\u001b[0m \u001b[0my_params\u001b[0m\u001b[0;34m\u001b[0m\u001b[0;34m\u001b[0m\u001b[0m\n",
      "\u001b[0;32m~/Documents/ML-Peak-Tracker/peak_finder/fit_lorentz.py\u001b[0m in \u001b[0;36mparameters_from_regions\u001b[0;34m(f, v, regions, max_n, noise_filter, catch_degeneracies, allowed_delta_ind)\u001b[0m\n\u001b[1;32m    173\u001b[0m     \u001b[0;32mif\u001b[0m \u001b[0mlen\u001b[0m\u001b[0;34m(\u001b[0m\u001b[0mregions\u001b[0m\u001b[0;34m)\u001b[0m \u001b[0;34m==\u001b[0m \u001b[0;36m0\u001b[0m\u001b[0;34m:\u001b[0m\u001b[0;34m\u001b[0m\u001b[0;34m\u001b[0m\u001b[0m\n\u001b[1;32m    174\u001b[0m         \u001b[0;32mreturn\u001b[0m \u001b[0mnp\u001b[0m\u001b[0;34m.\u001b[0m\u001b[0mempty\u001b[0m\u001b[0;34m(\u001b[0m\u001b[0;34m(\u001b[0m\u001b[0;36m0\u001b[0m\u001b[0;34m,\u001b[0m \u001b[0;36m4\u001b[0m\u001b[0;34m)\u001b[0m\u001b[0;34m)\u001b[0m\u001b[0;34m\u001b[0m\u001b[0;34m\u001b[0m\u001b[0m\n\u001b[0;32m--> 175\u001b[0;31m     \u001b[0mp_list\u001b[0m \u001b[0;34m=\u001b[0m \u001b[0mfit_regions\u001b[0m\u001b[0;34m(\u001b[0m\u001b[0mf\u001b[0m\u001b[0;34m,\u001b[0m \u001b[0mv\u001b[0m\u001b[0;34m,\u001b[0m \u001b[0mregions\u001b[0m\u001b[0;34m,\u001b[0m \u001b[0mmax_n\u001b[0m\u001b[0;34m=\u001b[0m\u001b[0mmax_n\u001b[0m\u001b[0;34m,\u001b[0m \u001b[0mnoise_filter\u001b[0m\u001b[0;34m=\u001b[0m\u001b[0mnoise_filter\u001b[0m\u001b[0;34m)\u001b[0m\u001b[0;34m\u001b[0m\u001b[0;34m\u001b[0m\u001b[0m\n\u001b[0m\u001b[1;32m    176\u001b[0m     \u001b[0;32mif\u001b[0m \u001b[0mlen\u001b[0m\u001b[0;34m(\u001b[0m\u001b[0mp_list\u001b[0m\u001b[0;34m)\u001b[0m \u001b[0;34m==\u001b[0m \u001b[0;36m0\u001b[0m\u001b[0;34m:\u001b[0m\u001b[0;34m\u001b[0m\u001b[0;34m\u001b[0m\u001b[0m\n\u001b[1;32m    177\u001b[0m         \u001b[0;32mreturn\u001b[0m \u001b[0mnp\u001b[0m\u001b[0;34m.\u001b[0m\u001b[0mempty\u001b[0m\u001b[0;34m(\u001b[0m\u001b[0;34m(\u001b[0m\u001b[0;36m0\u001b[0m\u001b[0;34m,\u001b[0m \u001b[0;36m4\u001b[0m\u001b[0;34m)\u001b[0m\u001b[0;34m)\u001b[0m\u001b[0;34m\u001b[0m\u001b[0;34m\u001b[0m\u001b[0m\n",
      "\u001b[0;32m~/Documents/ML-Peak-Tracker/peak_finder/fit_lorentz.py\u001b[0m in \u001b[0;36mfit_regions\u001b[0;34m(f, v, regions, max_n, noise_filter)\u001b[0m\n\u001b[1;32m    148\u001b[0m     \u001b[0;32mfor\u001b[0m \u001b[0mi\u001b[0m \u001b[0;32min\u001b[0m \u001b[0mutil\u001b[0m\u001b[0;34m.\u001b[0m\u001b[0mprogressbar\u001b[0m\u001b[0;34m(\u001b[0m\u001b[0mrange\u001b[0m\u001b[0;34m(\u001b[0m\u001b[0;36m0\u001b[0m\u001b[0;34m,\u001b[0m \u001b[0mlen\u001b[0m\u001b[0;34m(\u001b[0m\u001b[0mregions\u001b[0m\u001b[0;34m)\u001b[0m\u001b[0;34m)\u001b[0m\u001b[0;34m,\u001b[0m \u001b[0mprefix\u001b[0m\u001b[0;34m=\u001b[0m\u001b[0;34m\"Fitting: \"\u001b[0m\u001b[0;34m)\u001b[0m\u001b[0;34m:\u001b[0m\u001b[0;34m\u001b[0m\u001b[0;34m\u001b[0m\u001b[0m\n\u001b[1;32m    149\u001b[0m         \u001b[0mregion_f\u001b[0m\u001b[0;34m,\u001b[0m \u001b[0mregion_v\u001b[0m \u001b[0;34m=\u001b[0m \u001b[0mutil\u001b[0m\u001b[0;34m.\u001b[0m\u001b[0mextract_region\u001b[0m\u001b[0;34m(\u001b[0m\u001b[0mi\u001b[0m\u001b[0;34m,\u001b[0m \u001b[0mregions\u001b[0m\u001b[0;34m,\u001b[0m \u001b[0mf\u001b[0m\u001b[0;34m,\u001b[0m \u001b[0mv\u001b[0m\u001b[0;34m)\u001b[0m\u001b[0;34m\u001b[0m\u001b[0;34m\u001b[0m\u001b[0m\n\u001b[0;32m--> 150\u001b[0;31m         \u001b[0mfit\u001b[0m \u001b[0;34m=\u001b[0m \u001b[0mfree_n_least_squares\u001b[0m\u001b[0;34m(\u001b[0m\u001b[0mregion_f\u001b[0m\u001b[0;34m,\u001b[0m \u001b[0mregion_v\u001b[0m\u001b[0;34m,\u001b[0m \u001b[0mnoise_filter\u001b[0m\u001b[0;34m=\u001b[0m\u001b[0mnoise_filter\u001b[0m\u001b[0;34m)\u001b[0m\u001b[0;34m\u001b[0m\u001b[0;34m\u001b[0m\u001b[0m\n\u001b[0m\u001b[1;32m    151\u001b[0m         \u001b[0;32mif\u001b[0m \u001b[0mfit\u001b[0m \u001b[0;32mis\u001b[0m \u001b[0;32mnot\u001b[0m \u001b[0;32mNone\u001b[0m\u001b[0;34m:\u001b[0m\u001b[0;34m\u001b[0m\u001b[0;34m\u001b[0m\u001b[0m\n\u001b[1;32m    152\u001b[0m             \u001b[0mp_list\u001b[0m\u001b[0;34m.\u001b[0m\u001b[0mappend\u001b[0m\u001b[0;34m(\u001b[0m\u001b[0mfree_n_least_squares\u001b[0m\u001b[0;34m(\u001b[0m\u001b[0mregion_f\u001b[0m\u001b[0;34m,\u001b[0m \u001b[0mregion_v\u001b[0m\u001b[0;34m,\u001b[0m \u001b[0mnoise_filter\u001b[0m\u001b[0;34m=\u001b[0m\u001b[0mnoise_filter\u001b[0m\u001b[0;34m)\u001b[0m\u001b[0;34m.\u001b[0m\u001b[0mx\u001b[0m\u001b[0;34m)\u001b[0m\u001b[0;34m\u001b[0m\u001b[0;34m\u001b[0m\u001b[0m\n",
      "\u001b[0;32m~/Documents/ML-Peak-Tracker/peak_finder/fit_lorentz.py\u001b[0m in \u001b[0;36mfree_n_least_squares\u001b[0;34m(f, v, max_n, noise_filter, force_fit)\u001b[0m\n\u001b[1;32m    125\u001b[0m     \u001b[0mA\u001b[0m \u001b[0mleast\u001b[0m \u001b[0msquares\u001b[0m \u001b[0mfit\u001b[0m \u001b[0;32mwith\u001b[0m \u001b[0man\u001b[0m \u001b[0munspecified\u001b[0m \u001b[0mnumber\u001b[0m \u001b[0mof\u001b[0m \u001b[0mLorentzians\u001b[0m\u001b[0;34m.\u001b[0m\u001b[0;34m\u001b[0m\u001b[0;34m\u001b[0m\u001b[0m\n\u001b[1;32m    126\u001b[0m     \"\"\"\n\u001b[0;32m--> 127\u001b[0;31m     \u001b[0mdelta_f\u001b[0m \u001b[0;34m=\u001b[0m \u001b[0;34m(\u001b[0m\u001b[0mmax\u001b[0m\u001b[0;34m(\u001b[0m\u001b[0mf\u001b[0m\u001b[0;34m)\u001b[0m \u001b[0;34m-\u001b[0m \u001b[0mmin\u001b[0m\u001b[0;34m(\u001b[0m\u001b[0mf\u001b[0m\u001b[0;34m)\u001b[0m\u001b[0;34m)\u001b[0m \u001b[0;34m/\u001b[0m \u001b[0mlen\u001b[0m\u001b[0;34m(\u001b[0m\u001b[0mf\u001b[0m\u001b[0;34m)\u001b[0m\u001b[0;34m\u001b[0m\u001b[0;34m\u001b[0m\u001b[0m\n\u001b[0m\u001b[1;32m    128\u001b[0m     \u001b[0mbest_fit\u001b[0m\u001b[0;34m,\u001b[0m \u001b[0minitial_keep\u001b[0m \u001b[0;34m=\u001b[0m \u001b[0mset_n_least_squares\u001b[0m\u001b[0;34m(\u001b[0m\u001b[0mf\u001b[0m\u001b[0;34m,\u001b[0m \u001b[0mv\u001b[0m\u001b[0;34m,\u001b[0m \u001b[0mn\u001b[0m\u001b[0;34m=\u001b[0m\u001b[0;36m1\u001b[0m\u001b[0;34m,\u001b[0m \u001b[0mnoise_filter\u001b[0m\u001b[0;34m=\u001b[0m\u001b[0mnoise_filter\u001b[0m\u001b[0;34m,\u001b[0m \u001b[0mdelta_f\u001b[0m\u001b[0;34m=\u001b[0m\u001b[0mdelta_f\u001b[0m\u001b[0;34m)\u001b[0m\u001b[0;34m\u001b[0m\u001b[0;34m\u001b[0m\u001b[0m\n\u001b[1;32m    129\u001b[0m     \u001b[0mn\u001b[0m \u001b[0;34m=\u001b[0m \u001b[0;36m1\u001b[0m\u001b[0;34m\u001b[0m\u001b[0;34m\u001b[0m\u001b[0m\n",
      "\u001b[0;31mValueError\u001b[0m: max() arg is an empty sequence"
     ]
    }
   ],
   "source": [
    "x_params, y_params = fl.spider_fit(data_files[0], p[1])"
   ]
  },
  {
   "cell_type": "code",
   "execution_count": 24,
   "metadata": {
    "tags": []
   },
   "outputs": [
    {
     "output_type": "stream",
     "name": "stdout",
     "text": "Checking for Degeneracies: [============================================================] 24/24"
    }
   ],
   "source": [
    "ndf = fl.data_file_fit(data_files[0], p[0], resolution=40000)"
   ]
  },
  {
   "cell_type": "code",
   "execution_count": 17,
   "metadata": {},
   "outputs": [],
   "source": [
    "ds.scatter_data_files(data_files)"
   ]
  },
  {
   "cell_type": "code",
   "execution_count": 104,
   "metadata": {
    "tags": []
   },
   "outputs": [
    {
     "output_type": "stream",
     "name": "stdout",
     "text": "[1241.56145978 1335.85861757 1438.71825205 1473.20706594 1496.75710644\n 1730.91158706 2216.44587933 2256.60198344 2333.79685    2516.29576508\n 2537.92631432 2668.94673035 2714.26915415 2901.92371384 2930.43828303\n 2971.96178265 3090.35302134 3219.39056477 3264.22911158 3439.91432393\n 3512.0916212  3636.52453807 3770.86544245 4056.66985479 4158.57433297\n 4186.75739181 4190.29148882 4234.92119531 4353.71667664 4396.64154304\n 4728.29766755 4901.29806658 5166.1149642  5209.91997477 5239.90461875\n 5549.32498796 5641.76031983 5697.84541649 5792.75537442 5963.85376324\n 6313.98975905 6362.35463358 6379.85978066 6422.88993237 6559.73436924\n 6695.56763298 6785.99158429 6820.94381208 7035.16768679 7096.55087924\n 7237.23002057 7337.14589889 7465.01951725 7516.25620278 7566.21245511\n 7677.88285592 7710.98576835 7754.52593167 7889.13627247 7996.12268436\n 8090.8380674  8450.91184362 8656.31697996 8815.33386361 8920.99977661\n 8951.45493095 9328.87446519 9405.0769053  9470.54495635 9543.31275728\n 9568.00300478 9633.51382132 9669.31505799]\n"
    }
   ],
   "source": [
    "t = lf.point_selection(data_files)\n",
    "print(f)"
   ]
  },
  {
   "cell_type": "code",
   "execution_count": 82,
   "metadata": {},
   "outputs": [
    {
     "output_type": "execute_result",
     "data": {
      "text/plain": "<matplotlib.collections.PathCollection at 0x7fd2384d47c0>"
     },
     "metadata": {},
     "execution_count": 82
    }
   ],
   "source": [
    "plt.scatter(f, np.ones(len(f)))\n",
    "plt.scatter(f[2:], np.ones(len(f[2:])))"
   ]
  },
  {
   "cell_type": "code",
   "execution_count": 89,
   "metadata": {},
   "outputs": [],
   "source": [
    "f = np.sort(f) / 1000"
   ]
  },
  {
   "cell_type": "code",
   "execution_count": 84,
   "metadata": {},
   "outputs": [
    {
     "output_type": "execute_result",
     "data": {
      "text/plain": "'/home/gabriel/Documents/Processed RUS Data/AG3023 - I/1_roomtemp/f0.pkl'"
     },
     "metadata": {},
     "execution_count": 84
    }
   ],
   "source": [
    "util.save(f)"
   ]
  },
  {
   "cell_type": "code",
   "execution_count": 103,
   "metadata": {},
   "outputs": [],
   "source": [
    "np.savetxt('/home/gabriel/Documents/Processed RUS Data/AG3023 - I/1_roomtemp/f0.txt', f, delimiter='\\n', fmt='%10.15f')"
   ]
  },
  {
   "cell_type": "code",
   "execution_count": 102,
   "metadata": {},
   "outputs": [
    {
     "output_type": "execute_result",
     "data": {
      "text/plain": "197524.38109527383"
     },
     "metadata": {},
     "execution_count": 102
    }
   ],
   "source": [
    "data_files[0].f[100]"
   ]
  },
  {
   "cell_type": "code",
   "execution_count": null,
   "metadata": {},
   "outputs": [],
   "source": []
  }
 ],
 "metadata": {
  "language_info": {
   "codemirror_mode": {
    "name": "ipython",
    "version": 3
   },
   "file_extension": ".py",
   "mimetype": "text/x-python",
   "name": "python",
   "nbconvert_exporter": "python",
   "pygments_lexer": "ipython3",
   "version": "3.8.2-final"
  },
  "orig_nbformat": 2,
  "kernelspec": {
   "name": "python_defaultSpec_1594766572535",
   "display_name": "Python 3.8.2 64-bit"
  }
 },
 "nbformat": 4,
 "nbformat_minor": 2
}